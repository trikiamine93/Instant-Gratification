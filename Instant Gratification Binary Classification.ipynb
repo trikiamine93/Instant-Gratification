{
 "cells": [
  {
   "cell_type": "code",
   "execution_count": 1,
   "metadata": {
    "_cell_guid": "b1076dfc-b9ad-4769-8c92-a6c4dae69d19",
    "_uuid": "8f2839f25d086af736a60e9eeb907d3b93b6e0e5"
   },
   "outputs": [
    {
     "name": "stdout",
     "output_type": "stream",
     "text": [
      "['test.csv', 'train.csv', 'sample_submission.csv']\n"
     ]
    }
   ],
   "source": [
    "import os\n",
    "print(os.listdir(\"../input\"))"
   ]
  },
  {
   "cell_type": "code",
   "execution_count": 2,
   "metadata": {},
   "outputs": [],
   "source": [
    "import pandas as d;d.np.random.seed(42);t,r=[d.read_csv('../input/t'+f+'.csv',index_col=0)for f in['rain','est']];*c,=t;M=c.pop(146);*_,T=c;*c,_=c\n",
    "from sklearn import svm as S,neighbors as N;u=S.NuSVC(.6,'poly',5,'auto',.08,1,1);s=S.SVC(.6,'poly',5,'auto',.08,1,1);k=N.KNeighborsClassifier(17,p=2.9)\n",
    "for i in range(512):x,j=t[t[M]==i],r[M]==i;u.fit(x[c],x[T]);s.fit(x[c],x[T]);k.fit(x[c],x[T]);p=r[j][c];r.loc[j,T]=.6*u.predict_proba(p)[:,1]+.3*s.predict_proba(p)[:,1]+.1*k.predict_proba(p)[:,1]\n",
    "r[[T]].to_csv('submission.csv')"
   ]
  }
 ],
 "metadata": {
  "kernelspec": {
   "display_name": "Python 3",
   "language": "python",
   "name": "python3"
  },
  "language_info": {
   "codemirror_mode": {
    "name": "ipython",
    "version": 3
   },
   "file_extension": ".py",
   "mimetype": "text/x-python",
   "name": "python",
   "nbconvert_exporter": "python",
   "pygments_lexer": "ipython3",
   "version": "3.6.4"
  }
 },
 "nbformat": 4,
 "nbformat_minor": 1
}
